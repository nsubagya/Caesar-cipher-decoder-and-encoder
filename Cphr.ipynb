{
 "cells": [
  {
   "cell_type": "markdown",
   "id": "2f6859df-0ed2-4277-8054-8a1088140ed4",
   "metadata": {},
   "source": [
    "# Decrypt_caesar_cipher"
   ]
  },
  {
   "cell_type": "code",
   "execution_count": 1,
   "id": "05b4e1d3-6ec7-4754-913c-b3a73d135d36",
   "metadata": {},
   "outputs": [],
   "source": [
    "import string"
   ]
  },
  {
   "cell_type": "markdown",
   "id": "6afd5a05-c92b-46e5-9696-afcf876ab34a",
   "metadata": {},
   "source": [
    "This Python script decrypts Caesar ciphers. It serves as a tool to decipher encrypted texts encountered."
   ]
  },
  {
   "cell_type": "code",
   "execution_count": 2,
   "id": "f1862998-cba1-4acf-84a2-adba54f09c96",
   "metadata": {},
   "outputs": [],
   "source": [
    "\n",
    "def decrypt_caesar_cipher(ciphertext, shift):\n",
    "    plaintext = \"\"\n",
    "    for char in ciphertext:\n",
    "        if char.isalpha():\n",
    "            is_upper = char.isupper()\n",
    "            decrypted_char = chr((ord(char) - ord('A' if is_upper else 'a') - shift)%26 + ord('A' if is_upper else 'a'))\n",
    "            plaintext += decrypted_char\n",
    "        elif char.isdigit():\n",
    "            decrypted_char = chr((ord(char) - shift - ord('0')) % 10 + ord('0'))\n",
    "            plaintext += decrypted_char\n",
    "        elif char in string.punctuation:  # Handle basic symbols\n",
    "            symbol_index = string.punctuation.index(char)\n",
    "            decrypted_char = string.punctuation[(symbol_index - shift) % len(string.punctuation)]\n",
    "            plaintext += decrypted_char\n",
    "        #elif char in string.punctuation:\n",
    "            #decrypted_char = chr((ord(char) - shift) % len(string.punctuation))\n",
    "            #plaintext += decrypted_char\n",
    "        else:\n",
    "            plaintext += char\n",
    "    \n",
    "    return plaintext\n"
   ]
  },
  {
   "cell_type": "markdown",
   "id": "6bed9fa2-2290-4bc9-b55e-4902bc113c25",
   "metadata": {},
   "source": [
    "This Python script encrypts Caesar ciphers, serving as a tool to encipher decrypted texts encountered."
   ]
  },
  {
   "cell_type": "markdown",
   "id": "8ea9e057-ef6f-484a-99ee-11811473eddc",
   "metadata": {},
   "source": [
    "# Encrypt_caesar_cipher"
   ]
  },
  {
   "cell_type": "code",
   "execution_count": 3,
   "id": "af6634c6-7ed5-48b7-bf06-76b9c770b309",
   "metadata": {},
   "outputs": [],
   "source": [
    "def encrypt_caesar_cipher(plaintext, shift):\n",
    "    ciphertext = \"\"\n",
    "    for char in plaintext:\n",
    "        if char.isalpha():#if ord(char) >= 65 and ord(char) <= 122:\n",
    "            is_upper = char.isupper()\n",
    "            encrypted_char = chr((ord(char) - ord('A' if is_upper else 'a') + shift)%26 + ord('A' if is_upper else 'a'))\n",
    "            ciphertext += encrypted_char\n",
    "        elif char.isdigit():\n",
    "            encrypted_char = chr((ord(char) - ord('0') + shift) % 10 + ord('0'))\n",
    "            ciphertext += encrypted_char\n",
    "        elif char in string.punctuation:  # Handle basic symbols\n",
    "            symbol_index = string.punctuation.index(char)\n",
    "            encrypted_char = string.punctuation[(symbol_index + shift) % len(string.punctuation)]\n",
    "            ciphertext += encrypted_char\n",
    "        #elif char in string.punctuation:\n",
    "            #encrypted_char = chr((ord(char) + shift) % len(string.punctuation))\n",
    "            #ciphertext += encrypted_char\n",
    "        else:\n",
    "            ciphertext += char\n",
    "    \n",
    "    return ciphertext"
   ]
  },
  {
   "cell_type": "markdown",
   "id": "37da61c7-29d8-449d-8132-c48296b01c70",
   "metadata": {},
   "source": [
    "Run the 'encrypt_caesar_cipher' function to encrypt an English word. This function has also been tested for larger paragraphs."
   ]
  },
  {
   "cell_type": "code",
   "execution_count": 5,
   "id": "62c8bf2c-6717-40a7-bb63-99969159c283",
   "metadata": {},
   "outputs": [
    {
     "name": "stdout",
     "output_type": "stream",
     "text": [
      "Encrypted Text: V ybir lbh\n"
     ]
    }
   ],
   "source": [
    "plaintext = \"I love you\"\n",
    "shift = 13\n",
    "encrypted_text = encrypt_caesar_cipher(plaintext, shift)\n",
    "print(\"Encrypted Text:\", encrypted_text)"
   ]
  },
  {
   "cell_type": "markdown",
   "id": "5ee2a730-f9f1-40ab-8480-2cad399d544e",
   "metadata": {},
   "source": [
    "Basic Decrypt Caesar Cipher Tester: In this scenario, you either need to intercept the shift or check all the possibilities."
   ]
  },
  {
   "cell_type": "code",
   "execution_count": 2,
   "id": "817a1072-847c-416a-94b5-5e6b1954474c",
   "metadata": {},
   "outputs": [
    {
     "name": "stdout",
     "output_type": "stream",
     "text": [
      "Decrypted Text: BE\u00139;8E\u0013:5\u0013D8I4K\u0013?5;8\u00135<AL:I4E\n"
     ]
    }
   ],
   "source": [
    "\n",
    "ciphertext = \"OR FHER GB QEVAX LBHE BINYGVAR\"\n",
    "shift = 13\n",
    "decrypted_text = decrypt_caesar_cipher(ciphertext, shift)\n",
    "print(\"Decrypted Text:\", decrypted_text)\n"
   ]
  },
  {
   "cell_type": "code",
   "execution_count": 85,
   "id": "0a6f34ca-374a-4bb1-80dc-ab4f0b351dc2",
   "metadata": {},
   "outputs": [
    {
     "name": "stderr",
     "output_type": "stream",
     "text": [
      "[nltk_data] Downloading package words to\n",
      "[nltk_data]     C:\\Users\\subag\\AppData\\Roaming\\nltk_data...\n",
      "[nltk_data]   Package words is already up-to-date!\n"
     ]
    },
    {
     "data": {
      "text/plain": [
       "True"
      ]
     },
     "execution_count": 85,
     "metadata": {},
     "output_type": "execute_result"
    }
   ],
   "source": [
    "import nltk\n",
    "nltk.download('words')"
   ]
  },
  {
   "cell_type": "markdown",
   "id": "9f831684-0c60-4bba-833e-07bb535b26ac",
   "metadata": {},
   "source": [
    "This is the automated process to guess the shift and posible English text."
   ]
  },
  {
   "cell_type": "markdown",
   "id": "ca49494e-e6be-464d-a442-af48c2571c9b",
   "metadata": {},
   "source": [
    "# Decrypt_caesar_cipher automation"
   ]
  },
  {
   "cell_type": "code",
   "execution_count": 6,
   "id": "12170ad9-2fc6-43b8-842f-bdb54b8cd2c1",
   "metadata": {},
   "outputs": [
    {
     "name": "stdout",
     "output_type": "stream",
     "text": [
      "best shift: 13 - Best Decrypted Text: I love you\n"
     ]
    }
   ],
   "source": [
    "from nltk.corpus import words\n",
    "\n",
    "english_words = set(words.words())\n",
    "\n",
    "\n",
    "ciphertext = \"V ybir lbh\"\n",
    "max_english_word_count = 0\n",
    "best_shift = 0\n",
    "for shift in range(26):\n",
    "    decrypted_text = decrypt_caesar_cipher(ciphertext, shift)\n",
    "    decrypted_words = decrypted_text.split() \n",
    "    english_words_in_decrypted_text = [word for word in decrypted_words if word.lower() in english_words]\n",
    "    english_words_count = len(english_words_in_decrypted_text)\n",
    "    if english_words_in_decrypted_text:\n",
    "        #found_english_word = True\n",
    "        #english_meaning_text = \" \".join(english_words_in_decrypted_text)\n",
    "        #print(\"Shift:\", shift, \"- Decrypted Text:\", decrypted_text)\n",
    "        if english_words_count > max_english_word_count:\n",
    "            max_english_word_count = english_words_count\n",
    "            best_shift = shift\n",
    "\n",
    "    \n",
    "    #else:\n",
    "        #print(\"Shift:\", shift, \"- No English words found in any decrypted text.\")\n",
    "print(\"best shift:\", best_shift, \"- Best Decrypted Text:\", decrypt_caesar_cipher(ciphertext, best_shift))"
   ]
  },
  {
   "cell_type": "code",
   "execution_count": null,
   "id": "225d90d6-c7f9-4c5f-b221-1f336b94cdcd",
   "metadata": {},
   "outputs": [],
   "source": []
  }
 ],
 "metadata": {
  "kernelspec": {
   "display_name": "Python 3 (ipykernel)",
   "language": "python",
   "name": "python3"
  },
  "language_info": {
   "codemirror_mode": {
    "name": "ipython",
    "version": 3
   },
   "file_extension": ".py",
   "mimetype": "text/x-python",
   "name": "python",
   "nbconvert_exporter": "python",
   "pygments_lexer": "ipython3",
   "version": "3.10.9"
  }
 },
 "nbformat": 4,
 "nbformat_minor": 5
}
